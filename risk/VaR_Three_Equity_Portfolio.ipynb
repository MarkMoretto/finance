{
 "cells": [
  {
   "cell_type": "markdown",
   "metadata": {},
   "source": [
    "## VaR Sampler\n",
    "\n",
    "This is a small demo of Value at Risk for a portfolio of three equities (Facebook, Apple, and Amazon).  The intitial portfolio value is $1,000,000.\n",
    "\n",
    "Calculations are derived from closing stock prices over a five-year time frame, from February 2015 through the end of January 2020."
   ]
  },
  {
   "cell_type": "code",
   "execution_count": 7,
   "metadata": {},
   "outputs": [],
   "source": [
    "from __future__ import print_function\n",
    "\n",
    "### Standard libs\n",
    "import re\n",
    "import time\n",
    "from urllib import (\n",
    "        request as ureq,\n",
    "        parse as uparse,\n",
    "        )\n",
    "from datetime import datetime as dt\n",
    "\n",
    "\n",
    "from sys import version_info\n",
    "\n",
    "if version_info.major < 3: \n",
    "    from StringIO import StringIO\n",
    "else:\n",
    "    from io import StringIO\n",
    "    \n",
    "    \n",
    "# Third-party libs\n",
    "import numpy as np\n",
    "import pandas as pd\n",
    "from scipy.stats import norm\n",
    "import matplotlib.pyplot as plt"
   ]
  },
  {
   "cell_type": "markdown",
   "metadata": {},
   "source": [
    "Below are some functions to get Yahoo! Finance data.\n",
    "\n",
    "Note: Your USER_AGENT value might be different if you plan on running this locally.  To find out, you can hit F12 in your browser, go to the Console tab, and type in `navigator.userAgent` to see what User Agent is set for your browser."
   ]
  },
  {
   "cell_type": "code",
   "execution_count": 8,
   "metadata": {},
   "outputs": [],
   "source": [
    "\n",
    "class QueryVars:\n",
    "    \n",
    "    USER_AGENT = \"Mozilla/5.0 (X11; Ubuntu; Linux x86_64; rv:72.0)\"\n",
    "    USER_AGENT += \" \" + \"Gecko/20100101 Firefox/72.0\"\n",
    "    \n",
    "    def __init__(self, crumb = None, cookie = None, request = ureq):\n",
    "        self.ureq = ureq\n",
    "        self.cookie_inst = self.ureq.HTTPCookieProcessor()\n",
    "        self.url_opener = self.ureq.build_opener(self.cookie_inst)\n",
    "        self.ureq.install_opener(self.url_opener)\n",
    "        self.header_ = {\n",
    "                \"User-Agent\": self.USER_AGENT,\n",
    "                }\n",
    "        self.crumb = crumb\n",
    "        self.cookie = cookie\n",
    "    \n",
    "    @property\n",
    "    def crumb(self):\n",
    "        return self.__crumb\n",
    "    \n",
    "    @crumb.setter\n",
    "    def crumb(self, value = None):\n",
    "        self.__crumb = value\n",
    "        \n",
    "    @property\n",
    "    def cookie(self):\n",
    "        return self.__cookie\n",
    "    \n",
    "    @cookie.setter\n",
    "    def cookie(self, value = None):\n",
    "        self.__cookie = value\n",
    "\n",
    "\n",
    "\n",
    "def get_cookie_and_crumb(ticker, *args):\n",
    "    \"\"\"\n",
    "    Function to set crumb and cookie values for our Yahoo! Finance\n",
    "    session.\n",
    "    \n",
    "    The args will just be an instance of our QueryVars() class from above.\n",
    "    \"\"\"\n",
    "    yf_base = f\"https://finance.yahoo.com/quote\"\n",
    "    yf_hist_uri = f\"{yf_base}/{ticker}/history?p={ticker}\"  \n",
    "    \n",
    "    \n",
    "    args[0].cookie_inst.cookiejar.clear()\n",
    "    req = args[0].ureq.Request(yf_hist_uri, headers = args[0].header_)\n",
    "    f = args[0].ureq.urlopen(req)\n",
    "    data_string = f.read().decode('utf-8')\n",
    "    \n",
    "    targets = list()\n",
    "    tokens = [i for i in data_string.split('\\n') if len(i) > 0]\n",
    "    for i, token in enumerate(tokens):\n",
    "        if 'CrumbStore' in token:\n",
    "            targets.append(i)\n",
    "    \n",
    "    if len(targets) == 1:\n",
    "        target = targets[0]\n",
    "        data = tokens[target]\n",
    "    else:\n",
    "        print('Multiple targets found')\n",
    "    \n",
    "    crumb_base_pat = r'(?P<crumbs>\"CrumbStore\":{\"crumb\":\".+?\"})'\n",
    "    p = re.compile(crumb_base_pat)\n",
    "    crumbs = p.search(data).group('crumbs')\n",
    "    \n",
    "    crumb_pat = r'\"CrumbStore\":{\"crumb\":\"(.+)\"}'\n",
    "    args[0].crumb = re.sub(crumb_pat, r\"\\1\", crumbs)\n",
    "    \n",
    "    \n",
    "    # Extract the cookie from cookiejar\n",
    "    for c in args[0].cookie_inst.cookiejar:\n",
    "        if c.domain == '.yahoo.com' and c.name == 'B':\n",
    "            args[0].cookie = c.value\n",
    "\n",
    "\n",
    "\n",
    "def validate_date(date_string):\n",
    "    \"\"\"Validate and reformat user-entered date strings.\"\"\"\n",
    "    \n",
    "    yr_prefix = str(dt.now().year)[:2]\n",
    "    \n",
    "    if re.search(r\"-|\\/\", date_string):\n",
    "        delim = set(re.findall(r\"\\D+\", date_string)).pop()\n",
    "        if delim == \"/\":\n",
    "            mth, dy, yr = re.split(r\"\\/\", date_string)\n",
    "        elif delim == \"-\":\n",
    "            yr, mth, dy = re.split(r\"-\", date_string)\n",
    "            \n",
    "        if len(yr) > 2:\n",
    "            yr = str(yr)[-2:]\n",
    "        mth = f\"{int(mth):0>2}\"\n",
    "        dy = f\"{int(dy):0>2}\"\n",
    "        return dt.fromisoformat(f\"{yr_prefix}{yr}-{mth}-{dy}\")\n",
    "    \n",
    "    else:\n",
    "        print(\"Error determining date type!\")\n",
    "    \n",
    "\n",
    "\n",
    "def get_stock_data(ticker, start_date, end_date, info_type=\"quote\"):\n",
    "    \"\"\"\n",
    "    Main function to retrieve Yahoo! Finance stock data.\n",
    "    \n",
    "    `start_date` and `end_date` can be pretty much any short date format,\n",
    "    but ISO8601 (YYYY-MM-DD) is preferred.\n",
    "    \n",
    "    Available `info_type` values are:\n",
    "        \"quote\"\n",
    "        \"dividend\"\n",
    "        \"split\"\n",
    "    \n",
    "    \"\"\"\n",
    "    ticker = str(ticker).upper()\n",
    "    \n",
    "    qv = QueryVars()\n",
    "    \n",
    "    get_cookie_and_crumb(ticker, qv)\n",
    "    \n",
    "    start_dt = validate_date(start_date)\n",
    "    end_dt = validate_date(end_date)\n",
    "    \n",
    "\n",
    "    tb = time.mktime((start_dt.year, start_dt.month, start_dt.day, 4, 0, 0, 0, 0, 0))\n",
    "    te = time.mktime((end_dt.year, end_dt.month, end_dt.day, 18, 0, 0, 0, 0, 0))\n",
    "    \n",
    "    type_dict = {\n",
    "            \"q\": \"history\", # Quote\n",
    "            \"d\": \"div\", # Dividend\n",
    "            \"s\": \"split\", # Split\n",
    "            }  \n",
    "\n",
    "    \n",
    "    param_ = dict(\n",
    "            period1=int(tb),\n",
    "            period2=int(te),\n",
    "            interval = '1d'\n",
    "            )\n",
    "    \n",
    "    param_['events'] = type_dict[info_type[0]]\n",
    "    param_['crumb'] = qv.crumb\n",
    "    \n",
    "    params = uparse.urlencode(param_)\n",
    "    \n",
    "    url_ = f\"https://query1.finance.yahoo.com/v7/finance/download/{ticker}?{params}\"\n",
    "    # print(url)\n",
    "    req_ = qv.ureq.Request(url_, headers = qv.header_)    \n",
    "    \n",
    "    # Perform the query\n",
    "    # Cookie will be handled by opener\n",
    "    resp = qv.ureq.urlopen(req_)\n",
    "    raw_data = resp.read().decode('utf-8')\n",
    "    # print(alines)\n",
    "    resp.close()\n",
    "    return raw_data\n",
    "\n",
    "\n",
    "def multiple_tickers(ticker, start_dt, end_dt):\n",
    "    \"\"\"Convenience function to handle data retrieval for multiple tickers.\"\"\"\n",
    "    res = StringIO(get_stock_data(ticker = ticker,\n",
    "                       start_date=start_dt,\n",
    "                       end_date=end_dt))\n",
    "\n",
    "    data = pd.read_csv(res, sep=\",\")\n",
    "    res.close()\n",
    "    res = None\n",
    "    data = data.drop(['Open', 'High', 'Low', 'Close','Volume',], axis=1)\n",
    "    data = data.rename(columns={\"Adj Close\":f\"close_{ticker}\"})    \n",
    "    return data\n",
    "\n",
    "def pct_return(df_col):\n",
    "    return (df_col / df_col.shift(1)) - 1\n",
    "\n",
    "def sqrt_(n):\n",
    "    return n ** (1/2)"
   ]
  },
  {
   "cell_type": "markdown",
   "metadata": {},
   "source": [
    "This section sets up a super-simple portfolio.  Weights are derived from the base value, though that would change with a larger portfolio in a production environment."
   ]
  },
  {
   "cell_type": "code",
   "execution_count": 9,
   "metadata": {},
   "outputs": [],
   "source": [
    "INIT_INVESTMENT = 1e6 # 1 million\n",
    "synth_portfolio = {\n",
    "        'ticker': ['fb','aapl','amzn',],\n",
    "        'base': [500000.0, 350000.0, 150000.0]\n",
    "        }\n",
    "\n",
    "port_df = pd.DataFrame(synth_portfolio)\n",
    "port_df['weight'] = port_df['base'] / port_df['base'].sum()"
   ]
  },
  {
   "cell_type": "code",
   "execution_count": 10,
   "metadata": {},
   "outputs": [
    {
     "name": "stdout",
     "output_type": "stream",
     "text": [
      "  ticker      base  weight\n",
      "0     fb  500000.0    0.50\n",
      "1   aapl  350000.0    0.35\n",
      "2   amzn  150000.0    0.15\n"
     ]
    }
   ],
   "source": [
    "# What our portfolio data frame looks like:\n",
    "\n",
    "print(port_df)"
   ]
  },
  {
   "cell_type": "code",
   "execution_count": 11,
   "metadata": {},
   "outputs": [],
   "source": [
    "### We'll look at February 2015 through the end of January 2020.\n",
    "START_DATE = \"2015-02-01\"\n",
    "END_DATE = \"2020-02-01\"\n",
    "\n",
    "### Collections of tickers and related weightings.\n",
    "tickers = port_df['ticker'].values\n",
    "weights = port_df['weight'].values\n",
    "\n",
    "### Retrieve and concatenate data for multiple tickers inot a single data frame\n",
    "dfs = [multiple_tickers(t, START_DATE, END_DATE) for t in tickers]\n",
    "df = pd.concat([df.set_index('Date') for df in dfs], axis=1, join='outer')"
   ]
  },
  {
   "cell_type": "code",
   "execution_count": 14,
   "metadata": {},
   "outputs": [
    {
     "name": "stdout",
     "output_type": "stream",
     "text": [
      "With a 95% confidence interval, the maximum expected 1-day loss\n",
      "for our $1,000,000.00 portfolio is $22,429.65.\n"
     ]
    }
   ],
   "source": [
    "### Create dataframe of return values\n",
    "returns_df = df.pct_change()\n",
    "\n",
    "\n",
    "### Create covariance matrix\n",
    "df_cov = returns_df.cov()\n",
    "\n",
    "\n",
    "### Calculate portfolio mean and standard deviation\n",
    "mean_ = returns_df.mean()\n",
    "portfolio_mean_ = mean_ @ weights\n",
    "portfolio_stdev_ = ((weights.T.dot(df_cov).dot(weights)) ** (1/2))\n",
    "\n",
    "\n",
    "### Mean and standard deviation of initial investment\n",
    "investment_mean_ = (1 + portfolio_mean_) * INIT_INVESTMENT\n",
    "investment_stdev_ = INIT_INVESTMENT * portfolio_stdev_\n",
    "\n",
    "\n",
    "### Set confidence interval and find inverse of normal cumulative distribution.\n",
    "CI = 0.95\n",
    "\n",
    "ci_cutoff = norm.ppf((1 - CI), investment_mean_, investment_stdev_)\n",
    "\n",
    "### Find Value at Risk for one day\n",
    "VaR_1_day = INIT_INVESTMENT - ci_cutoff\n",
    "\n",
    "msg = f\"With a {CI * 100:.0f}% confidence interval, \"\n",
    "msg += f\"the maximum expected 1-day loss\\nfor our ${INIT_INVESTMENT:,.2f} portfolio is ${VaR_1_day:,.2f}.\"\n",
    "print(msg)"
   ]
  },
  {
   "cell_type": "markdown",
   "metadata": {},
   "source": [
    "This cell will look at 20 days worth of data and return a simple plot of the curve."
   ]
  },
  {
   "cell_type": "code",
   "execution_count": 15,
   "metadata": {},
   "outputs": [
    {
     "data": {
      "text/plain": [
       "[<matplotlib.lines.Line2D at 0x7f8cff0060b8>]"
      ]
     },
     "execution_count": 15,
     "metadata": {},
     "output_type": "execute_result"
    },
    {
     "data": {
      "image/png": "[encoded data removed]",
      "text/plain": [
       "<Figure size 648x504 with 1 Axes>"
      ]
     },
     "metadata": {
      "needs_background": "light"
     },
     "output_type": "display_data"
    }
   ],
   "source": [
    "### Multiple day outlook\n",
    "number_of_days = 20\n",
    "results = [round(VaR_1_day * sqrt_(d), 2) for d in range(1, number_of_days + 1)]\n",
    "\n",
    "\n",
    "fig = plt.figure(figsize = (9,7))\n",
    "plt.title(f\"VaR over {number_of_days} day period\")\n",
    "plt.xlabel(\"Days\")\n",
    "plt.ylabel(\"Max. expected loss (USD)\")\n",
    "plt.tight_layout()\n",
    "plt.plot(results, \"r\")"
   ]
  },
  {
   "cell_type": "code",
   "execution_count": null,
   "metadata": {},
   "outputs": [],
   "source": []
  }
 ],
 "metadata": {
  "kernelspec": {
   "display_name": "Python 3",
   "language": "python",
   "name": "python3"
  },
  "language_info": {
   "codemirror_mode": {
    "name": "ipython",
    "version": 3
   },
   "file_extension": ".py",
   "mimetype": "text/x-python",
   "name": "python",
   "nbconvert_exporter": "python",
   "pygments_lexer": "ipython3",
   "version": "3.7.3"
  }
 },
 "nbformat": 4,
 "nbformat_minor": 2
}
